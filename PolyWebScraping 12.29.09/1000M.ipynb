{
 "cells": [
  {
   "cell_type": "code",
   "execution_count": 16,
   "metadata": {},
   "outputs": [
    {
     "name": "stdout",
     "output_type": "stream",
     "text": [
      "PostgreSQL server information\n",
      "{'user': 'postgres', 'channel_binding': 'prefer', 'dbname': 'Platform', 'host': '127.0.0.1', 'port': '5432', 'options': '', 'sslmode': 'prefer', 'sslnegotiation': 'postgres', 'sslcompression': '0', 'sslcertmode': 'allow', 'sslsni': '1', 'ssl_min_protocol_version': 'TLSv1.2', 'gssencmode': 'prefer', 'krbsrvname': 'postgres', 'gssdelegation': '0', 'target_session_attrs': 'any', 'load_balance_hosts': 'disable'} \n",
      "\n"
     ]
    }
   ],
   "source": [
    "import psycopg2\n",
    "from psycopg2 import Error\n",
    "\n",
    "try:\n",
    "    # Connect to an existing database\n",
    "    connection = psycopg2.connect(user=\"postgres\",\n",
    "                                  password=\"Mac.phil.007\",\n",
    "                                  host=\"127.0.0.1\",\n",
    "                                  port=\"5432\",\n",
    "                                  database=\"Platform\")\n",
    "\n",
    "    # Create a cursor to perform database operations\n",
    "    cursor = connection.cursor()\n",
    "    # Print PostgreSQL details\n",
    "    print(\"PostgreSQL server information\")\n",
    "    print(connection.get_dsn_parameters(), \"\\n\")\n",
    "except (Exception, Error) as error:\n",
    "    print(\"Error while connecting to PostgreSQL\", error)\n"
   ]
  },
  {
   "cell_type": "markdown",
   "metadata": {},
   "source": [
    "# Fecth from Apify "
   ]
  },
  {
   "cell_type": "markdown",
   "metadata": {},
   "source": [
    "HTTPS method"
   ]
  },
  {
   "cell_type": "code",
   "execution_count": 17,
   "metadata": {},
   "outputs": [
    {
     "name": "stdout",
     "output_type": "stream",
     "text": [
      "✅ CSV file saved as polymarket_data1000.csv\n"
     ]
    }
   ],
   "source": [
    "import http.client\n",
    "\n",
    "# Initialize connection to Apify\n",
    "conn = http.client.HTTPSConnection(\"api.apify.com\")\n",
    "\n",
    "# Set headers to request CSV format\n",
    "headers = {\n",
    "    'Accept': 'application/csv'\n",
    "}\n",
    "\n",
    "# Make the request (Replace with your dataset ID)\n",
    "conn.request(\"GET\", \"/v2/datasets/txGdzlgXHqvY0fXdC/items?format=csv\", headers=headers)\n",
    "\n",
    "# Get response\n",
    "res = conn.getresponse()\n",
    "data = res.read()\n",
    "\n",
    "# Save data as CSV file\n",
    "csv_filename = \"polymarket_data1000.csv\"\n",
    "with open(csv_filename, \"wb\") as f:\n",
    "    f.write(data)\n",
    "\n",
    "print(f\"✅ CSV file saved as {csv_filename}\")\n"
   ]
  },
  {
   "cell_type": "code",
   "execution_count": 18,
   "metadata": {},
   "outputs": [
    {
     "data": {
      "text/plain": [
       "1000"
      ]
     },
     "execution_count": 18,
     "metadata": {},
     "output_type": "execute_result"
    }
   ],
   "source": [
    "import pandas as pd\n",
    "\n",
    "# Load CSV into DataFrame\n",
    "csv_filename = \"polymarket_data1000.csv\"\n",
    "df1000 = pd.read_csv(csv_filename)\n",
    "\n",
    "# Display the first few rows\n",
    "df1000.shape[0]\n"
   ]
  },
  {
   "cell_type": "markdown",
   "metadata": {},
   "source": [
    "# Insert into pgsql\n",
    "\n",
    "- Don't forget to create the table first in pgsql"
   ]
  },
  {
   "cell_type": "markdown",
   "metadata": {},
   "source": [
    "Create the table in pgsql"
   ]
  },
  {
   "cell_type": "code",
   "execution_count": 19,
   "metadata": {},
   "outputs": [],
   "source": [
    "# # Rollback any failed transactions\n",
    "# connection.rollback()\n",
    "\n",
    "# # Drop the table if it already exists\n",
    "# cursor.execute(\"DROP TABLE IF EXISTS polymarket_data1000;\")\n",
    "# connection.commit()\n",
    "\n",
    "# # Create a new table\n",
    "# create_table_query = '''CREATE TABLE polymarket_data1000 (\n",
    "#     id SERIAL PRIMARY KEY,\n",
    "#     market_chance FLOAT8,\n",
    "#     market_closed BOOLEAN,\n",
    "#     market_creation_date TIMESTAMP,\n",
    "#     market_description TEXT,\n",
    "#     market_end_date TIMESTAMP,\n",
    "#     market_link TEXT,\n",
    "#     market_liquidity FLOAT8,\n",
    "#     market_no_price FLOAT8,\n",
    "#     market_num_comments INT,\n",
    "#     market_one_day_price_change FLOAT8,\n",
    "#     market_question TEXT,\n",
    "#     market_rewards_amount FLOAT8,\n",
    "#     market_rewards_daily_rate FLOAT8,\n",
    "#     market_spread FLOAT8,\n",
    "#     market_volume FLOAT8,\n",
    "#     market_volume_24 FLOAT8,\n",
    "#     market_yes_price FLOAT8\n",
    "# );'''\n",
    "\n",
    "# cursor.execute(create_table_query)\n",
    "# connection.commit()\n",
    "# print(\"✅ Table dropped and recreated successfully!\")\n"
   ]
  },
  {
   "cell_type": "code",
   "execution_count": 20,
   "metadata": {},
   "outputs": [
    {
     "name": "stdout",
     "output_type": "stream",
     "text": [
      "✅ Scraped Polymarket data stored in PostgreSQL successfully!\n"
     ]
    }
   ],
   "source": [
    "connection.rollback()\n",
    "import pandas as pd\n",
    "\n",
    "# Assuming df is your DataFrame\n",
    "df1000['market_creation_date'] = df1000['market_creation_date'].apply(lambda x: None if pd.isna(x) else x)\n",
    "df1000['market_end_date'] = df1000['market_end_date'].apply(lambda x: None if pd.isna(x) else x)\n",
    "\n",
    "# Now insert data into PostgreSQL\n",
    "for _, market in df1000.iterrows():\n",
    "    cursor.execute(\"\"\"\n",
    "        INSERT INTO polymarket_data (\n",
    "            market_question, market_description, market_creation_date, market_end_date, \n",
    "            market_chance, market_liquidity, market_volume, market_volume_24, \n",
    "            market_yes_price, market_no_price, market_spread, \n",
    "            market_rewards_amount, market_rewards_daily_rate, market_num_comments, market_link\n",
    "        ) VALUES (%s, %s, %s, %s, %s, %s, %s, %s, %s, %s, %s, %s, %s, %s, %s)\n",
    "    \"\"\", (\n",
    "\n",
    "\n",
    "    ))\n",
    "\n",
    "connection.commit()\n",
    "print(\"✅ Scraped Polymarket data stored in PostgreSQL successfully!\")\n"
   ]
  },
  {
   "cell_type": "code",
   "execution_count": null,
   "metadata": {},
   "outputs": [],
   "source": []
  }
 ],
 "metadata": {
  "kernelspec": {
   "display_name": "arm64",
   "language": "python",
   "name": "python3"
  },
  "language_info": {
   "codemirror_mode": {
    "name": "ipython",
    "version": 3
   },
   "file_extension": ".py",
   "mimetype": "text/x-python",
   "name": "python",
   "nbconvert_exporter": "python",
   "pygments_lexer": "ipython3",
   "version": "3.10.9"
  }
 },
 "nbformat": 4,
 "nbformat_minor": 2
}
